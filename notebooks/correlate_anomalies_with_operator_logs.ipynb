{
 "cells": [
  {
   "cell_type": "code",
   "execution_count": null,
   "id": "109fc48f-e8f2-450e-a827-2f5d9d1b1d79",
   "metadata": {},
   "outputs": [
    {
     "name": "stderr",
     "output_type": "stream",
     "text": [
      "Batches: 100%|████████████████████████████████████████████████████████████████████████████████████| 1/1 [00:00<00:00,  2.80it/s]\n",
      "C:\\Users\\Likhitha\\AppData\\Local\\Temp\\ipykernel_6920\\3007607080.py:80: SettingWithCopyWarning: \n",
      "A value is trying to be set on a copy of a slice from a DataFrame.\n",
      "Try using .loc[row_indexer,col_indexer] = value instead\n",
      "\n",
      "See the caveats in the documentation: https://pandas.pydata.org/pandas-docs/stable/user_guide/indexing.html#returning-a-view-versus-a-copy\n",
      "  anomalies['anomaly_text'] = anomalies.apply(\n"
     ]
    },
    {
     "name": "stdout",
     "output_type": "stream",
     "text": [
      "blowout_preventer_isoforest.csv\n"
     ]
    },
    {
     "name": "stderr",
     "output_type": "stream",
     "text": [
      "Batches: 100%|████████████████████████████████████████████████████████████████████████████████████| 9/9 [00:02<00:00,  3.67it/s]\n",
      "C:\\Users\\Likhitha\\AppData\\Local\\Temp\\ipykernel_6920\\3007607080.py:86: SettingWithCopyWarning: \n",
      "A value is trying to be set on a copy of a slice from a DataFrame.\n",
      "Try using .loc[row_indexer,col_indexer] = value instead\n",
      "\n",
      "See the caveats in the documentation: https://pandas.pydata.org/pandas-docs/stable/user_guide/indexing.html#returning-a-view-versus-a-copy\n",
      "  anomalies['embedding'] = model.encode(anomalies['anomaly_text'].tolist(), show_progress_bar=True).tolist()\n",
      "C:\\Users\\Likhitha\\AppData\\Local\\Temp\\ipykernel_6920\\3007607080.py:80: SettingWithCopyWarning: \n",
      "A value is trying to be set on a copy of a slice from a DataFrame.\n",
      "Try using .loc[row_indexer,col_indexer] = value instead\n",
      "\n",
      "See the caveats in the documentation: https://pandas.pydata.org/pandas-docs/stable/user_guide/indexing.html#returning-a-view-versus-a-copy\n",
      "  anomalies['anomaly_text'] = anomalies.apply(\n"
     ]
    },
    {
     "name": "stdout",
     "output_type": "stream",
     "text": [
      "4\n",
      "blowout_preventer_lstm.csv\n"
     ]
    },
    {
     "name": "stderr",
     "output_type": "stream",
     "text": [
      "Batches: 100%|████████████████████████████████████████████████████████████████████████████████████| 9/9 [00:02<00:00,  3.63it/s]\n",
      "C:\\Users\\Likhitha\\AppData\\Local\\Temp\\ipykernel_6920\\3007607080.py:86: SettingWithCopyWarning: \n",
      "A value is trying to be set on a copy of a slice from a DataFrame.\n",
      "Try using .loc[row_indexer,col_indexer] = value instead\n",
      "\n",
      "See the caveats in the documentation: https://pandas.pydata.org/pandas-docs/stable/user_guide/indexing.html#returning-a-view-versus-a-copy\n",
      "  anomalies['embedding'] = model.encode(anomalies['anomaly_text'].tolist(), show_progress_bar=True).tolist()\n",
      "C:\\Users\\Likhitha\\AppData\\Local\\Temp\\ipykernel_6920\\3007607080.py:80: SettingWithCopyWarning: \n",
      "A value is trying to be set on a copy of a slice from a DataFrame.\n",
      "Try using .loc[row_indexer,col_indexer] = value instead\n",
      "\n",
      "See the caveats in the documentation: https://pandas.pydata.org/pandas-docs/stable/user_guide/indexing.html#returning-a-view-versus-a-copy\n",
      "  anomalies['anomaly_text'] = anomalies.apply(\n"
     ]
    },
    {
     "name": "stdout",
     "output_type": "stream",
     "text": [
      "4\n",
      "blowout_preventer_ocsvm.csv\n"
     ]
    },
    {
     "name": "stderr",
     "output_type": "stream",
     "text": [
      "Batches: 100%|████████████████████████████████████████████████████████████████████████████████████| 9/9 [00:02<00:00,  3.73it/s]\n",
      "C:\\Users\\Likhitha\\AppData\\Local\\Temp\\ipykernel_6920\\3007607080.py:86: SettingWithCopyWarning: \n",
      "A value is trying to be set on a copy of a slice from a DataFrame.\n",
      "Try using .loc[row_indexer,col_indexer] = value instead\n",
      "\n",
      "See the caveats in the documentation: https://pandas.pydata.org/pandas-docs/stable/user_guide/indexing.html#returning-a-view-versus-a-copy\n",
      "  anomalies['embedding'] = model.encode(anomalies['anomaly_text'].tolist(), show_progress_bar=True).tolist()\n",
      "C:\\Users\\Likhitha\\AppData\\Local\\Temp\\ipykernel_6920\\3007607080.py:80: SettingWithCopyWarning: \n",
      "A value is trying to be set on a copy of a slice from a DataFrame.\n",
      "Try using .loc[row_indexer,col_indexer] = value instead\n",
      "\n",
      "See the caveats in the documentation: https://pandas.pydata.org/pandas-docs/stable/user_guide/indexing.html#returning-a-view-versus-a-copy\n",
      "  anomalies['anomaly_text'] = anomalies.apply(\n"
     ]
    },
    {
     "name": "stdout",
     "output_type": "stream",
     "text": [
      "4\n",
      "centrifugal_pump_isoforest.csv\n"
     ]
    },
    {
     "name": "stderr",
     "output_type": "stream",
     "text": [
      "Batches: 100%|████████████████████████████████████████████████████████████████████████████████████| 9/9 [00:02<00:00,  3.51it/s]\n",
      "C:\\Users\\Likhitha\\AppData\\Local\\Temp\\ipykernel_6920\\3007607080.py:86: SettingWithCopyWarning: \n",
      "A value is trying to be set on a copy of a slice from a DataFrame.\n",
      "Try using .loc[row_indexer,col_indexer] = value instead\n",
      "\n",
      "See the caveats in the documentation: https://pandas.pydata.org/pandas-docs/stable/user_guide/indexing.html#returning-a-view-versus-a-copy\n",
      "  anomalies['embedding'] = model.encode(anomalies['anomaly_text'].tolist(), show_progress_bar=True).tolist()\n",
      "C:\\Users\\Likhitha\\AppData\\Local\\Temp\\ipykernel_6920\\3007607080.py:80: SettingWithCopyWarning: \n",
      "A value is trying to be set on a copy of a slice from a DataFrame.\n",
      "Try using .loc[row_indexer,col_indexer] = value instead\n",
      "\n",
      "See the caveats in the documentation: https://pandas.pydata.org/pandas-docs/stable/user_guide/indexing.html#returning-a-view-versus-a-copy\n",
      "  anomalies['anomaly_text'] = anomalies.apply(\n"
     ]
    },
    {
     "name": "stdout",
     "output_type": "stream",
     "text": [
      "43\n",
      "centrifugal_pump_lstm.csv\n"
     ]
    },
    {
     "name": "stderr",
     "output_type": "stream",
     "text": [
      "Batches: 100%|████████████████████████████████████████████████████████████████████████████████████| 9/9 [00:02<00:00,  3.46it/s]\n",
      "C:\\Users\\Likhitha\\AppData\\Local\\Temp\\ipykernel_6920\\3007607080.py:86: SettingWithCopyWarning: \n",
      "A value is trying to be set on a copy of a slice from a DataFrame.\n",
      "Try using .loc[row_indexer,col_indexer] = value instead\n",
      "\n",
      "See the caveats in the documentation: https://pandas.pydata.org/pandas-docs/stable/user_guide/indexing.html#returning-a-view-versus-a-copy\n",
      "  anomalies['embedding'] = model.encode(anomalies['anomaly_text'].tolist(), show_progress_bar=True).tolist()\n",
      "C:\\Users\\Likhitha\\AppData\\Local\\Temp\\ipykernel_6920\\3007607080.py:80: SettingWithCopyWarning: \n",
      "A value is trying to be set on a copy of a slice from a DataFrame.\n",
      "Try using .loc[row_indexer,col_indexer] = value instead\n",
      "\n",
      "See the caveats in the documentation: https://pandas.pydata.org/pandas-docs/stable/user_guide/indexing.html#returning-a-view-versus-a-copy\n",
      "  anomalies['anomaly_text'] = anomalies.apply(\n"
     ]
    },
    {
     "name": "stdout",
     "output_type": "stream",
     "text": [
      "43\n",
      "centrifugal_pump_ocsvm.csv\n"
     ]
    },
    {
     "name": "stderr",
     "output_type": "stream",
     "text": [
      "Batches: 100%|████████████████████████████████████████████████████████████████████████████████████| 9/9 [00:02<00:00,  3.58it/s]\n",
      "C:\\Users\\Likhitha\\AppData\\Local\\Temp\\ipykernel_6920\\3007607080.py:86: SettingWithCopyWarning: \n",
      "A value is trying to be set on a copy of a slice from a DataFrame.\n",
      "Try using .loc[row_indexer,col_indexer] = value instead\n",
      "\n",
      "See the caveats in the documentation: https://pandas.pydata.org/pandas-docs/stable/user_guide/indexing.html#returning-a-view-versus-a-copy\n",
      "  anomalies['embedding'] = model.encode(anomalies['anomaly_text'].tolist(), show_progress_bar=True).tolist()\n",
      "C:\\Users\\Likhitha\\AppData\\Local\\Temp\\ipykernel_6920\\3007607080.py:80: SettingWithCopyWarning: \n",
      "A value is trying to be set on a copy of a slice from a DataFrame.\n",
      "Try using .loc[row_indexer,col_indexer] = value instead\n",
      "\n",
      "See the caveats in the documentation: https://pandas.pydata.org/pandas-docs/stable/user_guide/indexing.html#returning-a-view-versus-a-copy\n",
      "  anomalies['anomaly_text'] = anomalies.apply(\n"
     ]
    },
    {
     "name": "stdout",
     "output_type": "stream",
     "text": [
      "43\n",
      "diesel_generator_isoforest.csv\n"
     ]
    },
    {
     "name": "stderr",
     "output_type": "stream",
     "text": [
      "Batches: 100%|████████████████████████████████████████████████████████████████████████████████████| 9/9 [00:02<00:00,  4.28it/s]\n",
      "C:\\Users\\Likhitha\\AppData\\Local\\Temp\\ipykernel_6920\\3007607080.py:86: SettingWithCopyWarning: \n",
      "A value is trying to be set on a copy of a slice from a DataFrame.\n",
      "Try using .loc[row_indexer,col_indexer] = value instead\n",
      "\n",
      "See the caveats in the documentation: https://pandas.pydata.org/pandas-docs/stable/user_guide/indexing.html#returning-a-view-versus-a-copy\n",
      "  anomalies['embedding'] = model.encode(anomalies['anomaly_text'].tolist(), show_progress_bar=True).tolist()\n",
      "C:\\Users\\Likhitha\\AppData\\Local\\Temp\\ipykernel_6920\\3007607080.py:80: SettingWithCopyWarning: \n",
      "A value is trying to be set on a copy of a slice from a DataFrame.\n",
      "Try using .loc[row_indexer,col_indexer] = value instead\n",
      "\n",
      "See the caveats in the documentation: https://pandas.pydata.org/pandas-docs/stable/user_guide/indexing.html#returning-a-view-versus-a-copy\n",
      "  anomalies['anomaly_text'] = anomalies.apply(\n"
     ]
    },
    {
     "name": "stdout",
     "output_type": "stream",
     "text": [
      "10\n",
      "diesel_generator_lstm.csv\n"
     ]
    },
    {
     "name": "stderr",
     "output_type": "stream",
     "text": [
      "Batches: 100%|████████████████████████████████████████████████████████████████████████████████████| 9/9 [00:02<00:00,  4.05it/s]\n",
      "C:\\Users\\Likhitha\\AppData\\Local\\Temp\\ipykernel_6920\\3007607080.py:86: SettingWithCopyWarning: \n",
      "A value is trying to be set on a copy of a slice from a DataFrame.\n",
      "Try using .loc[row_indexer,col_indexer] = value instead\n",
      "\n",
      "See the caveats in the documentation: https://pandas.pydata.org/pandas-docs/stable/user_guide/indexing.html#returning-a-view-versus-a-copy\n",
      "  anomalies['embedding'] = model.encode(anomalies['anomaly_text'].tolist(), show_progress_bar=True).tolist()\n",
      "C:\\Users\\Likhitha\\AppData\\Local\\Temp\\ipykernel_6920\\3007607080.py:80: SettingWithCopyWarning: \n",
      "A value is trying to be set on a copy of a slice from a DataFrame.\n",
      "Try using .loc[row_indexer,col_indexer] = value instead\n",
      "\n",
      "See the caveats in the documentation: https://pandas.pydata.org/pandas-docs/stable/user_guide/indexing.html#returning-a-view-versus-a-copy\n",
      "  anomalies['anomaly_text'] = anomalies.apply(\n"
     ]
    },
    {
     "name": "stdout",
     "output_type": "stream",
     "text": [
      "10\n",
      "diesel_generator_ocsvm.csv\n"
     ]
    },
    {
     "name": "stderr",
     "output_type": "stream",
     "text": [
      "Batches: 100%|████████████████████████████████████████████████████████████████████████████████████| 9/9 [00:02<00:00,  4.15it/s]\n",
      "C:\\Users\\Likhitha\\AppData\\Local\\Temp\\ipykernel_6920\\3007607080.py:86: SettingWithCopyWarning: \n",
      "A value is trying to be set on a copy of a slice from a DataFrame.\n",
      "Try using .loc[row_indexer,col_indexer] = value instead\n",
      "\n",
      "See the caveats in the documentation: https://pandas.pydata.org/pandas-docs/stable/user_guide/indexing.html#returning-a-view-versus-a-copy\n",
      "  anomalies['embedding'] = model.encode(anomalies['anomaly_text'].tolist(), show_progress_bar=True).tolist()\n",
      "C:\\Users\\Likhitha\\AppData\\Local\\Temp\\ipykernel_6920\\3007607080.py:80: SettingWithCopyWarning: \n",
      "A value is trying to be set on a copy of a slice from a DataFrame.\n",
      "Try using .loc[row_indexer,col_indexer] = value instead\n",
      "\n",
      "See the caveats in the documentation: https://pandas.pydata.org/pandas-docs/stable/user_guide/indexing.html#returning-a-view-versus-a-copy\n",
      "  anomalies['anomaly_text'] = anomalies.apply(\n"
     ]
    },
    {
     "name": "stdout",
     "output_type": "stream",
     "text": [
      "10\n",
      "mud_pump_isoforest.csv\n"
     ]
    },
    {
     "name": "stderr",
     "output_type": "stream",
     "text": [
      "Batches: 100%|████████████████████████████████████████████████████████████████████████████████████| 9/9 [00:02<00:00,  4.06it/s]\n",
      "C:\\Users\\Likhitha\\AppData\\Local\\Temp\\ipykernel_6920\\3007607080.py:86: SettingWithCopyWarning: \n",
      "A value is trying to be set on a copy of a slice from a DataFrame.\n",
      "Try using .loc[row_indexer,col_indexer] = value instead\n",
      "\n",
      "See the caveats in the documentation: https://pandas.pydata.org/pandas-docs/stable/user_guide/indexing.html#returning-a-view-versus-a-copy\n",
      "  anomalies['embedding'] = model.encode(anomalies['anomaly_text'].tolist(), show_progress_bar=True).tolist()\n",
      "C:\\Users\\Likhitha\\AppData\\Local\\Temp\\ipykernel_6920\\3007607080.py:80: SettingWithCopyWarning: \n",
      "A value is trying to be set on a copy of a slice from a DataFrame.\n",
      "Try using .loc[row_indexer,col_indexer] = value instead\n",
      "\n",
      "See the caveats in the documentation: https://pandas.pydata.org/pandas-docs/stable/user_guide/indexing.html#returning-a-view-versus-a-copy\n",
      "  anomalies['anomaly_text'] = anomalies.apply(\n"
     ]
    },
    {
     "name": "stdout",
     "output_type": "stream",
     "text": [
      "5\n",
      "mud_pump_lstm.csv\n"
     ]
    },
    {
     "name": "stderr",
     "output_type": "stream",
     "text": [
      "Batches: 100%|████████████████████████████████████████████████████████████████████████████████████| 9/9 [00:02<00:00,  3.85it/s]\n",
      "C:\\Users\\Likhitha\\AppData\\Local\\Temp\\ipykernel_6920\\3007607080.py:86: SettingWithCopyWarning: \n",
      "A value is trying to be set on a copy of a slice from a DataFrame.\n",
      "Try using .loc[row_indexer,col_indexer] = value instead\n",
      "\n",
      "See the caveats in the documentation: https://pandas.pydata.org/pandas-docs/stable/user_guide/indexing.html#returning-a-view-versus-a-copy\n",
      "  anomalies['embedding'] = model.encode(anomalies['anomaly_text'].tolist(), show_progress_bar=True).tolist()\n",
      "C:\\Users\\Likhitha\\AppData\\Local\\Temp\\ipykernel_6920\\3007607080.py:80: SettingWithCopyWarning: \n",
      "A value is trying to be set on a copy of a slice from a DataFrame.\n",
      "Try using .loc[row_indexer,col_indexer] = value instead\n",
      "\n",
      "See the caveats in the documentation: https://pandas.pydata.org/pandas-docs/stable/user_guide/indexing.html#returning-a-view-versus-a-copy\n",
      "  anomalies['anomaly_text'] = anomalies.apply(\n"
     ]
    },
    {
     "name": "stdout",
     "output_type": "stream",
     "text": [
      "5\n",
      "mud_pump_ocsvm.csv\n"
     ]
    },
    {
     "name": "stderr",
     "output_type": "stream",
     "text": [
      "Batches: 100%|████████████████████████████████████████████████████████████████████████████████████| 9/9 [00:02<00:00,  3.83it/s]\n",
      "C:\\Users\\Likhitha\\AppData\\Local\\Temp\\ipykernel_6920\\3007607080.py:86: SettingWithCopyWarning: \n",
      "A value is trying to be set on a copy of a slice from a DataFrame.\n",
      "Try using .loc[row_indexer,col_indexer] = value instead\n",
      "\n",
      "See the caveats in the documentation: https://pandas.pydata.org/pandas-docs/stable/user_guide/indexing.html#returning-a-view-versus-a-copy\n",
      "  anomalies['embedding'] = model.encode(anomalies['anomaly_text'].tolist(), show_progress_bar=True).tolist()\n",
      "C:\\Users\\Likhitha\\AppData\\Local\\Temp\\ipykernel_6920\\3007607080.py:80: SettingWithCopyWarning: \n",
      "A value is trying to be set on a copy of a slice from a DataFrame.\n",
      "Try using .loc[row_indexer,col_indexer] = value instead\n",
      "\n",
      "See the caveats in the documentation: https://pandas.pydata.org/pandas-docs/stable/user_guide/indexing.html#returning-a-view-versus-a-copy\n",
      "  anomalies['anomaly_text'] = anomalies.apply(\n"
     ]
    },
    {
     "name": "stdout",
     "output_type": "stream",
     "text": [
      "5\n",
      "shale_shaker_isoforest.csv\n"
     ]
    },
    {
     "name": "stderr",
     "output_type": "stream",
     "text": [
      "Batches: 100%|████████████████████████████████████████████████████████████████████████████████████| 9/9 [00:02<00:00,  3.79it/s]\n",
      "C:\\Users\\Likhitha\\AppData\\Local\\Temp\\ipykernel_6920\\3007607080.py:86: SettingWithCopyWarning: \n",
      "A value is trying to be set on a copy of a slice from a DataFrame.\n",
      "Try using .loc[row_indexer,col_indexer] = value instead\n",
      "\n",
      "See the caveats in the documentation: https://pandas.pydata.org/pandas-docs/stable/user_guide/indexing.html#returning-a-view-versus-a-copy\n",
      "  anomalies['embedding'] = model.encode(anomalies['anomaly_text'].tolist(), show_progress_bar=True).tolist()\n",
      "C:\\Users\\Likhitha\\AppData\\Local\\Temp\\ipykernel_6920\\3007607080.py:80: SettingWithCopyWarning: \n",
      "A value is trying to be set on a copy of a slice from a DataFrame.\n",
      "Try using .loc[row_indexer,col_indexer] = value instead\n",
      "\n",
      "See the caveats in the documentation: https://pandas.pydata.org/pandas-docs/stable/user_guide/indexing.html#returning-a-view-versus-a-copy\n",
      "  anomalies['anomaly_text'] = anomalies.apply(\n"
     ]
    },
    {
     "name": "stdout",
     "output_type": "stream",
     "text": [
      "10\n",
      "shale_shaker_lstm.csv\n"
     ]
    },
    {
     "name": "stderr",
     "output_type": "stream",
     "text": [
      "Batches: 100%|████████████████████████████████████████████████████████████████████████████████████| 9/9 [00:02<00:00,  3.68it/s]\n",
      "C:\\Users\\Likhitha\\AppData\\Local\\Temp\\ipykernel_6920\\3007607080.py:86: SettingWithCopyWarning: \n",
      "A value is trying to be set on a copy of a slice from a DataFrame.\n",
      "Try using .loc[row_indexer,col_indexer] = value instead\n",
      "\n",
      "See the caveats in the documentation: https://pandas.pydata.org/pandas-docs/stable/user_guide/indexing.html#returning-a-view-versus-a-copy\n",
      "  anomalies['embedding'] = model.encode(anomalies['anomaly_text'].tolist(), show_progress_bar=True).tolist()\n",
      "C:\\Users\\Likhitha\\AppData\\Local\\Temp\\ipykernel_6920\\3007607080.py:80: SettingWithCopyWarning: \n",
      "A value is trying to be set on a copy of a slice from a DataFrame.\n",
      "Try using .loc[row_indexer,col_indexer] = value instead\n",
      "\n",
      "See the caveats in the documentation: https://pandas.pydata.org/pandas-docs/stable/user_guide/indexing.html#returning-a-view-versus-a-copy\n",
      "  anomalies['anomaly_text'] = anomalies.apply(\n"
     ]
    },
    {
     "name": "stdout",
     "output_type": "stream",
     "text": [
      "10\n",
      "shale_shaker_ocsvm.csv\n"
     ]
    },
    {
     "name": "stderr",
     "output_type": "stream",
     "text": [
      "Batches: 100%|████████████████████████████████████████████████████████████████████████████████████| 9/9 [00:02<00:00,  3.76it/s]\n",
      "C:\\Users\\Likhitha\\AppData\\Local\\Temp\\ipykernel_6920\\3007607080.py:86: SettingWithCopyWarning: \n",
      "A value is trying to be set on a copy of a slice from a DataFrame.\n",
      "Try using .loc[row_indexer,col_indexer] = value instead\n",
      "\n",
      "See the caveats in the documentation: https://pandas.pydata.org/pandas-docs/stable/user_guide/indexing.html#returning-a-view-versus-a-copy\n",
      "  anomalies['embedding'] = model.encode(anomalies['anomaly_text'].tolist(), show_progress_bar=True).tolist()\n"
     ]
    },
    {
     "name": "stdout",
     "output_type": "stream",
     "text": [
      "10\n",
      "✅ Correlation file written to: ../correlation_outputs/correlation_logs.csv\n"
     ]
    }
   ],
   "source": [
    "import pandas as pd\n",
    "import re\n",
    "from datetime import datetime, timedelta\n",
    "from typing import Dict\n",
    "from pathlib import Path\n",
    "from sentence_transformers import SentenceTransformer\n",
    "from sklearn.metrics.pairwise import cosine_similarity\n",
    "import numpy as np\n",
    "\n",
    "# Settings\n",
    "log_path = \"../data/operator_logs/operator_logs_text.txt\"\n",
    "anomaly_folder = \"../anomaly_outputs\"\n",
    "output_file = \"../correlation_outputs/correlation_logs.csv\"\n",
    "time_tolerance = timedelta(minutes=240)\n",
    "similarity_threshold = 0.0  # Adjust as needed\n",
    "\n",
    "def load_processed_files(folder: str = anomaly_folder) -> Dict[str, pd.DataFrame]:\n",
    "    \"\"\"Return dict of {filename: DataFrame} for all CSVs in *folder*.\"\"\"\n",
    "    return {\n",
    "        f.name: pd.read_csv(f, parse_dates=[\"timestamp\"])\n",
    "        for f in Path(folder).glob(\"*.csv\")\n",
    "    }\n",
    "\n",
    "# Load anomaly datasets\n",
    "datasets = load_processed_files()\n",
    "\n",
    "# Parse operator logs\n",
    "with open(log_path, 'r') as f:\n",
    "    raw_logs = f.readlines()\n",
    "\n",
    "parsed_logs = []\n",
    "timestamp_regex = re.compile(r'\\d{4}-\\d{2}-\\d{2} \\d{2}:\\d{2}:\\d{2}')\n",
    "\n",
    "for line in raw_logs:\n",
    "    timestamp_match = timestamp_regex.search(line)\n",
    "    if timestamp_match:\n",
    "        timestamp_str = timestamp_match.group()\n",
    "        try:\n",
    "            timestamp = datetime.strptime(timestamp_str, \"%Y-%m-%d %H:%M:%S\")\n",
    "        except:\n",
    "            continue\n",
    "        remaining_text = line[timestamp_match.end():].strip()\n",
    "        equipment_match = re.search(\n",
    "            r'(blowout[_ ]preventer|drill[_ ]pipe|mud[_ ]pump|rotary[_ ]table)',\n",
    "            remaining_text,\n",
    "            re.IGNORECASE\n",
    "        )\n",
    "        equipment_type = equipment_match.group(1).replace(\" \", \"_\").lower() if equipment_match else \"unknown\"\n",
    "        parsed_logs.append({\n",
    "            \"timestamp\": timestamp,\n",
    "            \"equipment_type\": equipment_type,\n",
    "            \"log_text\": remaining_text\n",
    "        })\n",
    "\n",
    "logs_df = pd.DataFrame(parsed_logs)\n",
    "logs_df['equipment_type'] = logs_df['equipment_type'].str.lower()\n",
    "\n",
    "# Load embedding model\n",
    "model = SentenceTransformer('all-MiniLM-L6-v2')\n",
    "\n",
    "# Generate embeddings for logs\n",
    "logs_df['embedding'] = model.encode(logs_df['log_text'].tolist(), show_progress_bar=True).tolist()\n",
    "\n",
    "df_correlations = []\n",
    "\n",
    "# Process each anomaly file\n",
    "for name, df in datasets.items():\n",
    "    print(name)\n",
    "    match = re.match(r\"^(.*?)_[^_]+\\.csv$\", name)\n",
    "    equipment_name = match.group(1).lower() if match else \"unknown\"\n",
    "    df['equipment_type'] = equipment_name\n",
    "\n",
    "    anomaly_col = [col for col in df.columns if \"anomaly\" in col.lower()]\n",
    "    anomalies = df[df[anomaly_col[0]] == 1] if anomaly_col else df.copy()\n",
    "\n",
    "    if anomalies.empty:\n",
    "        continue\n",
    "\n",
    "    # Add anomaly text column\n",
    "    anomalies['anomaly_text'] = anomalies.apply(\n",
    "        lambda row: f\"Anomaly detected in {row['equipment_type']} at {row['timestamp']}\",\n",
    "        axis=1\n",
    "    )\n",
    "\n",
    "    # Generate embeddings for anomalies\n",
    "    anomalies['embedding'] = model.encode(anomalies['anomaly_text'].tolist(), show_progress_bar=True).tolist()\n",
    "\n",
    "    correlation_results = []\n",
    "\n",
    "    for _, anomaly_row in anomalies.iterrows():\n",
    "        a_time = anomaly_row['timestamp']\n",
    "        a_eq = anomaly_row['equipment_type']\n",
    "        a_emb = np.array(anomaly_row['embedding'])\n",
    "\n",
    "        # Filter logs within time window\n",
    "        time_window_logs = logs_df[\n",
    "            (logs_df['timestamp'] >= a_time - time_tolerance) &\n",
    "            (logs_df['timestamp'] <= a_time + time_tolerance)\n",
    "        ]\n",
    "\n",
    "        for _, log_row in time_window_logs.iterrows():\n",
    "            l_emb = np.array(log_row['embedding'])\n",
    "            similarity = cosine_similarity([a_emb], [l_emb])[0][0]\n",
    "\n",
    "            if similarity >= similarity_threshold:\n",
    "                row = {\n",
    "                    \"anomaly_time\": a_time,\n",
    "                    \"equipment_type\": equipment_name,\n",
    "                    \"anomaly_text\": anomaly_row['anomaly_text'],\n",
    "                    \"log_time\": log_row['timestamp'],\n",
    "                    \"log_text\": log_row['log_text'],\n",
    "                    \"similarity\": round(similarity, 3)\n",
    "                }\n",
    "\n",
    "                # Include all sensor columns except metadata\n",
    "                exclude_cols = {'timestamp', 'equipment_type', 'embedding', anomaly_col[0], 'anomaly_text'}\n",
    "                sensor_cols = [col for col in anomaly_row.index if col not in exclude_cols]\n",
    "                for sensor in sensor_cols:\n",
    "                    row[f\"sensor_{sensor}\"] = anomaly_row[sensor]\n",
    "\n",
    "                correlation_results.append(row)\n",
    "    print(len(correlation_results))\n",
    "    # Get top 20 most similar results\n",
    "    if correlation_results:\n",
    "        correlation_df = pd.DataFrame(correlation_results)\n",
    "        correlation_df = correlation_df.sort_values(by=\"similarity\", ascending=False).head(20)\n",
    "        df_correlations.append(correlation_df)\n",
    "\n",
    "# Save final result\n",
    "if df_correlations:\n",
    "    df_final = pd.concat(df_correlations, ignore_index=True)\n",
    "    Path(output_file).parent.mkdir(parents=True, exist_ok=True)\n",
    "    df_final.to_csv(output_file, index=False)\n",
    "    print(f\" Correlation file written to: {output_file}\")\n",
    "else:\n",
    "    print(\"No correlations found.\")\n"
   ]
  },
  {
   "cell_type": "code",
   "execution_count": null,
   "id": "9d149f6f-72ba-49c4-87b7-b574fed118f2",
   "metadata": {},
   "outputs": [],
   "source": []
  }
 ],
 "metadata": {
  "kernelspec": {
   "display_name": "Python 3 (ipykernel)",
   "language": "python",
   "name": "python3"
  },
  "language_info": {
   "codemirror_mode": {
    "name": "ipython",
    "version": 3
   },
   "file_extension": ".py",
   "mimetype": "text/x-python",
   "name": "python",
   "nbconvert_exporter": "python",
   "pygments_lexer": "ipython3",
   "version": "3.10.11"
  }
 },
 "nbformat": 4,
 "nbformat_minor": 5
}
